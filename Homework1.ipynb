{
  "nbformat": 4,
  "nbformat_minor": 0,
  "metadata": {
    "colab": {
      "name": "Homework1.ipynb",
      "provenance": []
    },
    "kernelspec": {
      "name": "python3",
      "display_name": "Python 3"
    },
    "language_info": {
      "name": "python"
    }
  },
  "cells": [
    {
      "cell_type": "code",
      "execution_count": 3,
      "metadata": {
        "colab": {
          "base_uri": "https://localhost:8080/"
        },
        "id": "jrVeHsm1rpdT",
        "outputId": "d091d203-ef3d-4438-9e15-ae4f6fe27bc9"
      },
      "outputs": [
        {
          "output_type": "stream",
          "name": "stdout",
          "text": [
            "What is your name? ;\n",
            "What is your age? ;\n",
            "My name is ;. My age is ;\n"
          ]
        }
      ],
      "source": [
        "#Q1-Get your name and age as input and print it in the form like\n",
        "#Your name is Hulisi. Your age is 43\n",
        "name=input('What is your name? ')\n",
        "age=input('What is your age? ')\n",
        "print(\"My name is \"+name+'. My age is '+age)\n"
      ]
    },
    {
      "cell_type": "code",
      "source": [
        "#Q2-Write a if statement for a given two number is equal or not\n",
        "a=43\n",
        "b=54\n",
        "if (a == b):\n",
        "  print(\"Equal\")\n",
        "else:\n",
        "  print(\"Not\")\n"
      ],
      "metadata": {
        "id": "7Sfg03_PuVWa",
        "outputId": "09d8e2aa-d7dd-4b03-c841-1c08e30e26cc",
        "colab": {
          "base_uri": "https://localhost:8080/"
        }
      },
      "execution_count": 5,
      "outputs": [
        {
          "output_type": "stream",
          "name": "stdout",
          "text": [
            "Not\n"
          ]
        }
      ]
    },
    {
      "cell_type": "code",
      "source": [
        "#Q3-Write a if statement for first number is greater (a), equal or less than second number.(b)\n",
        "a=43\n",
        "b=54\n",
        "if (a > b):\n",
        "  print(\"Greater\")\n",
        "if (a == b):\n",
        "  print(\"equal\")\n",
        "else:\n",
        "  print(\"less\")\n",
        "\n"
      ],
      "metadata": {
        "id": "NtUibZ07u5gs",
        "outputId": "e0be6750-e7ce-4ba3-90cf-ee407438a667",
        "colab": {
          "base_uri": "https://localhost:8080/"
        }
      },
      "execution_count": 7,
      "outputs": [
        {
          "output_type": "stream",
          "name": "stdout",
          "text": [
            "less\n"
          ]
        }
      ]
    },
    {
      "cell_type": "code",
      "source": [
        "#Q4- Using for loop, print 1,2,3,4,5\n",
        "for k in range(1,6):\n",
        "  print (k)\n"
      ],
      "metadata": {
        "id": "U1UMQv36wNHP",
        "outputId": "c6b28c70-3142-4628-8851-6a951f178d53",
        "colab": {
          "base_uri": "https://localhost:8080/"
        }
      },
      "execution_count": 8,
      "outputs": [
        {
          "output_type": "stream",
          "name": "stdout",
          "text": [
            "1\n",
            "2\n",
            "3\n",
            "4\n",
            "5\n"
          ]
        }
      ]
    },
    {
      "cell_type": "code",
      "source": [
        "#Q5-Using while loop, print 5,4,3,2,1\n",
        "for k in range (5,0,-1):\n",
        "  print(k)"
      ],
      "metadata": {
        "id": "bh5Lga7XxGY8",
        "outputId": "1ecc8c56-b18f-4244-99d6-85a8f341701e",
        "colab": {
          "base_uri": "https://localhost:8080/"
        }
      },
      "execution_count": 10,
      "outputs": [
        {
          "output_type": "stream",
          "name": "stdout",
          "text": [
            "5\n",
            "4\n",
            "3\n",
            "2\n",
            "1\n"
          ]
        }
      ]
    },
    {
      "cell_type": "code",
      "source": [
        "#Q6- Using for loop, print 10,6,4,2,0\n",
        "#Hint Print if number is not equal to 8.\n",
        "\n",
        "for k in range (10,-1,-2):\n",
        "  if (k != 8):\n",
        "    print(k)"
      ],
      "metadata": {
        "id": "cXTTDS49xSoi",
        "outputId": "998b84cb-b46f-4dfe-cbc2-ab67ec39f3e0",
        "colab": {
          "base_uri": "https://localhost:8080/"
        }
      },
      "execution_count": 20,
      "outputs": [
        {
          "output_type": "stream",
          "name": "stdout",
          "text": [
            "10\n",
            "6\n",
            "4\n",
            "2\n",
            "0\n"
          ]
        }
      ]
    },
    {
      "cell_type": "code",
      "source": [
        "#Q7-Write a method to calculate age for a given date of birth year.\n",
        "#Use this method on orer to calculate age of person if date of birth is 1944\n",
        "# if age is the name of function, print(age(1944)\n",
        "def age(birth_year):\n",
        "  return 2025-birth_year\n",
        "print(age(2004))\n"
      ],
      "metadata": {
        "id": "geUjb-vuyYbF",
        "outputId": "0c826c37-484d-45fe-e435-168e446b47e3",
        "colab": {
          "base_uri": "https://localhost:8080/"
        }
      },
      "execution_count": 33,
      "outputs": [
        {
          "output_type": "stream",
          "name": "stdout",
          "text": [
            "21\n"
          ]
        }
      ]
    },
    {
      "cell_type": "code",
      "source": [
        "#Q8-Write a class named arithmetic with method for calculating addition, substraction, multiplication and division of two numbers.\n",
        "class arithmetic:\n",
        "  def addition(x,y):\n",
        "    return x+y\n",
        "\n",
        "  def substraction(x,y):\n",
        "    return x-y\n",
        "\n",
        "  def multiplication(x,y):\n",
        "    return x*y\n",
        "\n",
        "  def division(x,y):\n",
        "    return x/y\n",
        "print(arithmetic.addition(3,4))\n",
        "print(arithmetic.substraction(3,4))\n",
        "print(arithmetic.multiplication(3,4))\n",
        "print(arithmetic.division(3,4))"
      ],
      "metadata": {
        "id": "YcyFzE3fzC7_",
        "outputId": "38daf145-3d05-4c45-b253-26a38a17aaee",
        "colab": {
          "base_uri": "https://localhost:8080/"
        }
      },
      "execution_count": 32,
      "outputs": [
        {
          "output_type": "stream",
          "name": "stdout",
          "text": [
            "7\n",
            "-1\n",
            "12\n",
            "0.75\n"
          ]
        }
      ]
    },
    {
      "cell_type": "code",
      "source": [
        "#Q9- write a for loop or method  to calculate summation of first n numbers\n",
        "#i.e if n=3, it will print or return 6 (1+2+3)\n",
        "\n",
        "def summation(n):\n",
        "    total = 0\n",
        "    for i in range(1, n + 1):\n",
        "        total += i\n",
        "    return total\n",
        "\n",
        "n = 4\n",
        "print(summation(n))"
      ],
      "metadata": {
        "id": "AUJWr5YqzadI",
        "outputId": "cc0c6444-d2b5-4b78-e78a-a39577296d67",
        "colab": {
          "base_uri": "https://localhost:8080/"
        }
      },
      "execution_count": 37,
      "outputs": [
        {
          "output_type": "stream",
          "name": "stdout",
          "text": [
            "10\n"
          ]
        }
      ]
    },
    {
      "cell_type": "code",
      "source": [
        "#Q10-Generate 10 numbers between 0 and 1 and add into list. Print first three elements of that list.\n",
        "\n",
        "import random\n",
        "\n",
        "random_numbers = [random.random() for _ in range(10)]\n",
        "\n",
        "number_list = random_numbers\n",
        "\n",
        "print(number_list[:3])"
      ],
      "metadata": {
        "id": "hmtvJdCL02qx",
        "outputId": "1e1048d1-79b0-4f39-ff41-099729b7cf23",
        "colab": {
          "base_uri": "https://localhost:8080/"
        }
      },
      "execution_count": 38,
      "outputs": [
        {
          "output_type": "stream",
          "name": "stdout",
          "text": [
            "[0.07522168031141063, 0.8398384668943543, 0.260546221355358]\n"
          ]
        }
      ]
    },
    {
      "cell_type": "code",
      "source": [
        "#Q11-For a given number n, print numbers divisible by 3 up to that number(n included)\n",
        "#Example: if n=15, print 3,6,9,12,15\n",
        "#Hint you can use modulus statement (if (i%3==0))\n",
        "def print_divisible_by_3(n):\n",
        "    for i in range(1, n + 1):\n",
        "        if i % 3 == 0:\n",
        "            print(i, end=\", \")\n",
        "\n",
        "n = int(input(\"Enter a number: \"))\n",
        "print_divisible_by_3(n)"
      ],
      "metadata": {
        "id": "5O6Y2CujcAAs",
        "outputId": "c4c0b5be-c055-4d7e-bae9-fe879deb23db",
        "colab": {
          "base_uri": "https://localhost:8080/"
        }
      },
      "execution_count": 39,
      "outputs": [
        {
          "output_type": "stream",
          "name": "stdout",
          "text": [
            "Enter a number: 15\n",
            "3, 6, 9, 12, 15, "
          ]
        }
      ]
    }
  ]
}